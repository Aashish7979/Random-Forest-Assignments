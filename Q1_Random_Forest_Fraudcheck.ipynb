{
 "cells": [
  {
   "cell_type": "markdown",
   "id": "3d42ddbc",
   "metadata": {},
   "source": [
    "# Importing Libraries"
   ]
  },
  {
   "cell_type": "code",
   "execution_count": 2,
   "id": "901665b1",
   "metadata": {
    "ExecuteTime": {
     "end_time": "2021-09-16T19:42:34.834546Z",
     "start_time": "2021-09-16T19:42:34.818531Z"
    }
   },
   "outputs": [],
   "source": [
    "import pandas as pd\n",
    "import numpy as np\n",
    "import matplotlib.pyplot as plt\n",
    "import seaborn as sns\n",
    "from sklearn import datasets\n",
    "from sklearn.model_selection import train_test_split\n",
    "from sklearn.ensemble import RandomForestClassifier\n",
    "from sklearn.metrics import classification_report\n",
    "from sklearn import preprocessing"
   ]
  },
  {
   "cell_type": "markdown",
   "id": "2b604dd6",
   "metadata": {},
   "source": [
    "# Loading Dataset"
   ]
  },
  {
   "cell_type": "code",
   "execution_count": 4,
   "id": "7e991329",
   "metadata": {
    "ExecuteTime": {
     "end_time": "2021-09-16T19:43:14.760087Z",
     "start_time": "2021-09-16T19:43:14.728100Z"
    }
   },
   "outputs": [
    {
     "data": {
      "text/html": [
       "<div>\n",
       "<style scoped>\n",
       "    .dataframe tbody tr th:only-of-type {\n",
       "        vertical-align: middle;\n",
       "    }\n",
       "\n",
       "    .dataframe tbody tr th {\n",
       "        vertical-align: top;\n",
       "    }\n",
       "\n",
       "    .dataframe thead th {\n",
       "        text-align: right;\n",
       "    }\n",
       "</style>\n",
       "<table border=\"1\" class=\"dataframe\">\n",
       "  <thead>\n",
       "    <tr style=\"text-align: right;\">\n",
       "      <th></th>\n",
       "      <th>Undergrad</th>\n",
       "      <th>Marital.Status</th>\n",
       "      <th>Taxable.Income</th>\n",
       "      <th>City.Population</th>\n",
       "      <th>Work.Experience</th>\n",
       "      <th>Urban</th>\n",
       "    </tr>\n",
       "  </thead>\n",
       "  <tbody>\n",
       "    <tr>\n",
       "      <th>0</th>\n",
       "      <td>NO</td>\n",
       "      <td>Single</td>\n",
       "      <td>68833</td>\n",
       "      <td>50047</td>\n",
       "      <td>10</td>\n",
       "      <td>YES</td>\n",
       "    </tr>\n",
       "    <tr>\n",
       "      <th>1</th>\n",
       "      <td>YES</td>\n",
       "      <td>Divorced</td>\n",
       "      <td>33700</td>\n",
       "      <td>134075</td>\n",
       "      <td>18</td>\n",
       "      <td>YES</td>\n",
       "    </tr>\n",
       "    <tr>\n",
       "      <th>2</th>\n",
       "      <td>NO</td>\n",
       "      <td>Married</td>\n",
       "      <td>36925</td>\n",
       "      <td>160205</td>\n",
       "      <td>30</td>\n",
       "      <td>YES</td>\n",
       "    </tr>\n",
       "    <tr>\n",
       "      <th>3</th>\n",
       "      <td>YES</td>\n",
       "      <td>Single</td>\n",
       "      <td>50190</td>\n",
       "      <td>193264</td>\n",
       "      <td>15</td>\n",
       "      <td>YES</td>\n",
       "    </tr>\n",
       "    <tr>\n",
       "      <th>4</th>\n",
       "      <td>NO</td>\n",
       "      <td>Married</td>\n",
       "      <td>81002</td>\n",
       "      <td>27533</td>\n",
       "      <td>28</td>\n",
       "      <td>NO</td>\n",
       "    </tr>\n",
       "    <tr>\n",
       "      <th>5</th>\n",
       "      <td>NO</td>\n",
       "      <td>Divorced</td>\n",
       "      <td>33329</td>\n",
       "      <td>116382</td>\n",
       "      <td>0</td>\n",
       "      <td>NO</td>\n",
       "    </tr>\n",
       "    <tr>\n",
       "      <th>6</th>\n",
       "      <td>NO</td>\n",
       "      <td>Divorced</td>\n",
       "      <td>83357</td>\n",
       "      <td>80890</td>\n",
       "      <td>8</td>\n",
       "      <td>YES</td>\n",
       "    </tr>\n",
       "    <tr>\n",
       "      <th>7</th>\n",
       "      <td>YES</td>\n",
       "      <td>Single</td>\n",
       "      <td>62774</td>\n",
       "      <td>131253</td>\n",
       "      <td>3</td>\n",
       "      <td>YES</td>\n",
       "    </tr>\n",
       "    <tr>\n",
       "      <th>8</th>\n",
       "      <td>NO</td>\n",
       "      <td>Single</td>\n",
       "      <td>83519</td>\n",
       "      <td>102481</td>\n",
       "      <td>12</td>\n",
       "      <td>YES</td>\n",
       "    </tr>\n",
       "    <tr>\n",
       "      <th>9</th>\n",
       "      <td>YES</td>\n",
       "      <td>Divorced</td>\n",
       "      <td>98152</td>\n",
       "      <td>155482</td>\n",
       "      <td>4</td>\n",
       "      <td>YES</td>\n",
       "    </tr>\n",
       "  </tbody>\n",
       "</table>\n",
       "</div>"
      ],
      "text/plain": [
       "  Undergrad Marital.Status  Taxable.Income  City.Population  Work.Experience  \\\n",
       "0        NO         Single           68833            50047               10   \n",
       "1       YES       Divorced           33700           134075               18   \n",
       "2        NO        Married           36925           160205               30   \n",
       "3       YES         Single           50190           193264               15   \n",
       "4        NO        Married           81002            27533               28   \n",
       "5        NO       Divorced           33329           116382                0   \n",
       "6        NO       Divorced           83357            80890                8   \n",
       "7       YES         Single           62774           131253                3   \n",
       "8        NO         Single           83519           102481               12   \n",
       "9       YES       Divorced           98152           155482                4   \n",
       "\n",
       "  Urban  \n",
       "0   YES  \n",
       "1   YES  \n",
       "2   YES  \n",
       "3   YES  \n",
       "4    NO  \n",
       "5    NO  \n",
       "6   YES  \n",
       "7   YES  \n",
       "8   YES  \n",
       "9   YES  "
      ]
     },
     "execution_count": 4,
     "metadata": {},
     "output_type": "execute_result"
    }
   ],
   "source": [
    "fraud=pd.read_csv(\"Fraud_check.csv\")\n",
    "fraud.head(10)"
   ]
  },
  {
   "cell_type": "markdown",
   "id": "55af3ad6",
   "metadata": {},
   "source": [
    "# EDA"
   ]
  },
  {
   "cell_type": "code",
   "execution_count": 5,
   "id": "77094cbd",
   "metadata": {
    "ExecuteTime": {
     "end_time": "2021-09-16T19:43:32.389006Z",
     "start_time": "2021-09-16T19:43:32.372997Z"
    }
   },
   "outputs": [
    {
     "data": {
      "text/plain": [
       "Undergrad          object\n",
       "Marital.Status     object\n",
       "Taxable.Income      int64\n",
       "City.Population     int64\n",
       "Work.Experience     int64\n",
       "Urban              object\n",
       "dtype: object"
      ]
     },
     "execution_count": 5,
     "metadata": {},
     "output_type": "execute_result"
    }
   ],
   "source": [
    "fraud.dtypes"
   ]
  },
  {
   "cell_type": "code",
   "execution_count": 6,
   "id": "3c4eda6d",
   "metadata": {
    "ExecuteTime": {
     "end_time": "2021-09-16T19:43:39.509987Z",
     "start_time": "2021-09-16T19:43:39.478000Z"
    }
   },
   "outputs": [
    {
     "name": "stdout",
     "output_type": "stream",
     "text": [
      "<class 'pandas.core.frame.DataFrame'>\n",
      "RangeIndex: 600 entries, 0 to 599\n",
      "Data columns (total 6 columns):\n",
      " #   Column           Non-Null Count  Dtype \n",
      "---  ------           --------------  ----- \n",
      " 0   Undergrad        600 non-null    object\n",
      " 1   Marital.Status   600 non-null    object\n",
      " 2   Taxable.Income   600 non-null    int64 \n",
      " 3   City.Population  600 non-null    int64 \n",
      " 4   Work.Experience  600 non-null    int64 \n",
      " 5   Urban            600 non-null    object\n",
      "dtypes: int64(3), object(3)\n",
      "memory usage: 28.2+ KB\n"
     ]
    }
   ],
   "source": [
    "fraud.info()"
   ]
  },
  {
   "cell_type": "code",
   "execution_count": 7,
   "id": "18b8e032",
   "metadata": {
    "ExecuteTime": {
     "end_time": "2021-09-16T19:43:44.883774Z",
     "start_time": "2021-09-16T19:43:44.875697Z"
    }
   },
   "outputs": [
    {
     "data": {
      "text/plain": [
       "Index(['Undergrad', 'Marital.Status', 'Taxable.Income', 'City.Population',\n",
       "       'Work.Experience', 'Urban'],\n",
       "      dtype='object')"
      ]
     },
     "execution_count": 7,
     "metadata": {},
     "output_type": "execute_result"
    }
   ],
   "source": [
    "fraud.columns"
   ]
  },
  {
   "cell_type": "code",
   "execution_count": 8,
   "id": "8134d3b0",
   "metadata": {
    "ExecuteTime": {
     "end_time": "2021-09-16T19:43:50.075176Z",
     "start_time": "2021-09-16T19:43:50.067177Z"
    }
   },
   "outputs": [
    {
     "data": {
      "text/plain": [
       "(600, 6)"
      ]
     },
     "execution_count": 8,
     "metadata": {},
     "output_type": "execute_result"
    }
   ],
   "source": [
    "fraud.shape"
   ]
  },
  {
   "cell_type": "code",
   "execution_count": 9,
   "id": "9a3c0ad4",
   "metadata": {
    "ExecuteTime": {
     "end_time": "2021-09-16T19:43:56.175601Z",
     "start_time": "2021-09-16T19:43:56.158418Z"
    }
   },
   "outputs": [
    {
     "data": {
      "text/plain": [
       "Undergrad          0\n",
       "Marital.Status     0\n",
       "Taxable.Income     0\n",
       "City.Population    0\n",
       "Work.Experience    0\n",
       "Urban              0\n",
       "dtype: int64"
      ]
     },
     "execution_count": 9,
     "metadata": {},
     "output_type": "execute_result"
    }
   ],
   "source": [
    "fraud.isnull().sum()"
   ]
  },
  {
   "cell_type": "code",
   "execution_count": 10,
   "id": "870cf451",
   "metadata": {
    "ExecuteTime": {
     "end_time": "2021-09-16T19:44:12.990499Z",
     "start_time": "2021-09-16T19:44:12.966510Z"
    }
   },
   "outputs": [
    {
     "data": {
      "text/plain": [
       "0      Good\n",
       "1      Good\n",
       "2      Good\n",
       "3      Good\n",
       "4      Good\n",
       "       ... \n",
       "595    Good\n",
       "596    Good\n",
       "597    Good\n",
       "598    Good\n",
       "599    Good\n",
       "Name: TaxInc, Length: 600, dtype: category\n",
       "Categories (2, object): ['Risky' < 'Good']"
      ]
     },
     "execution_count": 10,
     "metadata": {},
     "output_type": "execute_result"
    }
   ],
   "source": [
    "fraud[\"TaxInc\"] = pd.cut(fraud[\"Taxable.Income\"], bins = [10002,30000,99620], labels = [\"Risky\", \"Good\"])\n",
    "fraud[\"TaxInc\"] "
   ]
  },
  {
   "cell_type": "code",
   "execution_count": 11,
   "id": "89fc6033",
   "metadata": {
    "ExecuteTime": {
     "end_time": "2021-09-16T19:44:20.826701Z",
     "start_time": "2021-09-16T19:44:20.794735Z"
    }
   },
   "outputs": [
    {
     "data": {
      "text/html": [
       "<div>\n",
       "<style scoped>\n",
       "    .dataframe tbody tr th:only-of-type {\n",
       "        vertical-align: middle;\n",
       "    }\n",
       "\n",
       "    .dataframe tbody tr th {\n",
       "        vertical-align: top;\n",
       "    }\n",
       "\n",
       "    .dataframe thead th {\n",
       "        text-align: right;\n",
       "    }\n",
       "</style>\n",
       "<table border=\"1\" class=\"dataframe\">\n",
       "  <thead>\n",
       "    <tr style=\"text-align: right;\">\n",
       "      <th></th>\n",
       "      <th>Undergrad</th>\n",
       "      <th>Marital.Status</th>\n",
       "      <th>City.Population</th>\n",
       "      <th>Work.Experience</th>\n",
       "      <th>Urban</th>\n",
       "      <th>TaxInc</th>\n",
       "    </tr>\n",
       "  </thead>\n",
       "  <tbody>\n",
       "    <tr>\n",
       "      <th>0</th>\n",
       "      <td>NO</td>\n",
       "      <td>Single</td>\n",
       "      <td>50047</td>\n",
       "      <td>10</td>\n",
       "      <td>YES</td>\n",
       "      <td>Good</td>\n",
       "    </tr>\n",
       "    <tr>\n",
       "      <th>1</th>\n",
       "      <td>YES</td>\n",
       "      <td>Divorced</td>\n",
       "      <td>134075</td>\n",
       "      <td>18</td>\n",
       "      <td>YES</td>\n",
       "      <td>Good</td>\n",
       "    </tr>\n",
       "    <tr>\n",
       "      <th>2</th>\n",
       "      <td>NO</td>\n",
       "      <td>Married</td>\n",
       "      <td>160205</td>\n",
       "      <td>30</td>\n",
       "      <td>YES</td>\n",
       "      <td>Good</td>\n",
       "    </tr>\n",
       "    <tr>\n",
       "      <th>3</th>\n",
       "      <td>YES</td>\n",
       "      <td>Single</td>\n",
       "      <td>193264</td>\n",
       "      <td>15</td>\n",
       "      <td>YES</td>\n",
       "      <td>Good</td>\n",
       "    </tr>\n",
       "    <tr>\n",
       "      <th>4</th>\n",
       "      <td>NO</td>\n",
       "      <td>Married</td>\n",
       "      <td>27533</td>\n",
       "      <td>28</td>\n",
       "      <td>NO</td>\n",
       "      <td>Good</td>\n",
       "    </tr>\n",
       "    <tr>\n",
       "      <th>...</th>\n",
       "      <td>...</td>\n",
       "      <td>...</td>\n",
       "      <td>...</td>\n",
       "      <td>...</td>\n",
       "      <td>...</td>\n",
       "      <td>...</td>\n",
       "    </tr>\n",
       "    <tr>\n",
       "      <th>595</th>\n",
       "      <td>YES</td>\n",
       "      <td>Divorced</td>\n",
       "      <td>39492</td>\n",
       "      <td>7</td>\n",
       "      <td>YES</td>\n",
       "      <td>Good</td>\n",
       "    </tr>\n",
       "    <tr>\n",
       "      <th>596</th>\n",
       "      <td>YES</td>\n",
       "      <td>Divorced</td>\n",
       "      <td>55369</td>\n",
       "      <td>2</td>\n",
       "      <td>YES</td>\n",
       "      <td>Good</td>\n",
       "    </tr>\n",
       "    <tr>\n",
       "      <th>597</th>\n",
       "      <td>NO</td>\n",
       "      <td>Divorced</td>\n",
       "      <td>154058</td>\n",
       "      <td>0</td>\n",
       "      <td>YES</td>\n",
       "      <td>Good</td>\n",
       "    </tr>\n",
       "    <tr>\n",
       "      <th>598</th>\n",
       "      <td>YES</td>\n",
       "      <td>Married</td>\n",
       "      <td>180083</td>\n",
       "      <td>17</td>\n",
       "      <td>NO</td>\n",
       "      <td>Good</td>\n",
       "    </tr>\n",
       "    <tr>\n",
       "      <th>599</th>\n",
       "      <td>NO</td>\n",
       "      <td>Divorced</td>\n",
       "      <td>158137</td>\n",
       "      <td>16</td>\n",
       "      <td>NO</td>\n",
       "      <td>Good</td>\n",
       "    </tr>\n",
       "  </tbody>\n",
       "</table>\n",
       "<p>600 rows × 6 columns</p>\n",
       "</div>"
      ],
      "text/plain": [
       "    Undergrad Marital.Status  City.Population  Work.Experience Urban TaxInc\n",
       "0          NO         Single            50047               10   YES   Good\n",
       "1         YES       Divorced           134075               18   YES   Good\n",
       "2          NO        Married           160205               30   YES   Good\n",
       "3         YES         Single           193264               15   YES   Good\n",
       "4          NO        Married            27533               28    NO   Good\n",
       "..        ...            ...              ...              ...   ...    ...\n",
       "595       YES       Divorced            39492                7   YES   Good\n",
       "596       YES       Divorced            55369                2   YES   Good\n",
       "597        NO       Divorced           154058                0   YES   Good\n",
       "598       YES        Married           180083               17    NO   Good\n",
       "599        NO       Divorced           158137               16    NO   Good\n",
       "\n",
       "[600 rows x 6 columns]"
      ]
     },
     "execution_count": 11,
     "metadata": {},
     "output_type": "execute_result"
    }
   ],
   "source": [
    "fraudcheck = fraud.drop(columns=[\"Taxable.Income\"])\n",
    "fraudcheck"
   ]
  },
  {
   "cell_type": "markdown",
   "id": "2cc36e2d",
   "metadata": {},
   "source": [
    "# Processing"
   ]
  },
  {
   "cell_type": "code",
   "execution_count": 16,
   "id": "57d5047a",
   "metadata": {
    "ExecuteTime": {
     "end_time": "2021-09-16T19:47:32.772353Z",
     "start_time": "2021-09-16T19:47:32.748361Z"
    }
   },
   "outputs": [],
   "source": [
    "FC = pd.get_dummies(fraudcheck.drop(columns = [\"TaxInc\"]))"
   ]
  },
  {
   "cell_type": "code",
   "execution_count": 17,
   "id": "8b098562",
   "metadata": {
    "ExecuteTime": {
     "end_time": "2021-09-16T19:47:44.982138Z",
     "start_time": "2021-09-16T19:47:44.974088Z"
    }
   },
   "outputs": [],
   "source": [
    "Fraud_final = pd.concat([FC,fraudcheck [\"TaxInc\"]], axis = 1)"
   ]
  },
  {
   "cell_type": "code",
   "execution_count": 18,
   "id": "e3b9f925",
   "metadata": {
    "ExecuteTime": {
     "end_time": "2021-09-16T19:47:50.231793Z",
     "start_time": "2021-09-16T19:47:50.207663Z"
    }
   },
   "outputs": [
    {
     "data": {
      "text/plain": [
       "['City.Population',\n",
       " 'Work.Experience',\n",
       " 'Undergrad_NO',\n",
       " 'Undergrad_YES',\n",
       " 'Marital.Status_Divorced',\n",
       " 'Marital.Status_Married',\n",
       " 'Marital.Status_Single',\n",
       " 'Urban_NO',\n",
       " 'Urban_YES',\n",
       " 'TaxInc']"
      ]
     },
     "execution_count": 18,
     "metadata": {},
     "output_type": "execute_result"
    }
   ],
   "source": [
    "colnames = list(Fraud_final.columns)\n",
    "colnames"
   ]
  },
  {
   "cell_type": "code",
   "execution_count": 19,
   "id": "7506ff93",
   "metadata": {
    "ExecuteTime": {
     "end_time": "2021-09-16T19:47:55.967154Z",
     "start_time": "2021-09-16T19:47:55.943163Z"
    }
   },
   "outputs": [
    {
     "data": {
      "text/plain": [
       "['City.Population',\n",
       " 'Work.Experience',\n",
       " 'Undergrad_NO',\n",
       " 'Undergrad_YES',\n",
       " 'Marital.Status_Divorced',\n",
       " 'Marital.Status_Married',\n",
       " 'Marital.Status_Single',\n",
       " 'Urban_NO',\n",
       " 'Urban_YES']"
      ]
     },
     "execution_count": 19,
     "metadata": {},
     "output_type": "execute_result"
    }
   ],
   "source": [
    "predictors = colnames[:9]\n",
    "predictors"
   ]
  },
  {
   "cell_type": "code",
   "execution_count": 20,
   "id": "42a2dd1c",
   "metadata": {
    "ExecuteTime": {
     "end_time": "2021-09-16T19:48:02.896953Z",
     "start_time": "2021-09-16T19:48:02.888844Z"
    }
   },
   "outputs": [
    {
     "data": {
      "text/plain": [
       "'TaxInc'"
      ]
     },
     "execution_count": 20,
     "metadata": {},
     "output_type": "execute_result"
    }
   ],
   "source": [
    "target = colnames[9]\n",
    "target"
   ]
  },
  {
   "cell_type": "code",
   "execution_count": 21,
   "id": "e525834d",
   "metadata": {
    "ExecuteTime": {
     "end_time": "2021-09-16T19:48:21.631984Z",
     "start_time": "2021-09-16T19:48:21.607987Z"
    }
   },
   "outputs": [
    {
     "data": {
      "text/plain": [
       "(600, 9)"
      ]
     },
     "execution_count": 21,
     "metadata": {},
     "output_type": "execute_result"
    }
   ],
   "source": [
    "X = Fraud_final[predictors]\n",
    "X.shape"
   ]
  },
  {
   "cell_type": "code",
   "execution_count": 22,
   "id": "db8acd45",
   "metadata": {
    "ExecuteTime": {
     "end_time": "2021-09-16T19:48:27.526066Z",
     "start_time": "2021-09-16T19:48:27.506945Z"
    }
   },
   "outputs": [
    {
     "data": {
      "text/plain": [
       "0      Good\n",
       "1      Good\n",
       "2      Good\n",
       "3      Good\n",
       "4      Good\n",
       "       ... \n",
       "595    Good\n",
       "596    Good\n",
       "597    Good\n",
       "598    Good\n",
       "599    Good\n",
       "Name: TaxInc, Length: 600, dtype: category\n",
       "Categories (2, object): ['Risky' < 'Good']"
      ]
     },
     "execution_count": 22,
     "metadata": {},
     "output_type": "execute_result"
    }
   ],
   "source": [
    "Y = Fraud_final[target]\n",
    "Y"
   ]
  },
  {
   "cell_type": "markdown",
   "id": "2f6a993d",
   "metadata": {},
   "source": [
    "# Visualization"
   ]
  },
  {
   "cell_type": "code",
   "execution_count": 23,
   "id": "a31df382",
   "metadata": {
    "ExecuteTime": {
     "end_time": "2021-09-16T19:48:45.383054Z",
     "start_time": "2021-09-16T19:48:44.270668Z"
    }
   },
   "outputs": [
    {
     "data": {
      "text/plain": [
       "<seaborn.axisgrid.PairGrid at 0x2892a67ba90>"
      ]
     },
     "execution_count": 23,
     "metadata": {},
     "output_type": "execute_result"
    },
    {
     "data": {
      "image/png": "[encoded data removed]",
      "text/plain": [
       "<Figure size 540x540 with 12 Axes>"
      ]
     },
     "metadata": {
      "needs_background": "light"
     },
     "output_type": "display_data"
    }
   ],
   "source": [
    "sns.pairplot(fraud)"
   ]
  },
  {
   "cell_type": "code",
   "execution_count": 24,
   "id": "33c9c2a1",
   "metadata": {
    "ExecuteTime": {
     "end_time": "2021-09-16T19:49:03.764790Z",
     "start_time": "2021-09-16T19:48:51.924754Z"
    }
   },
   "outputs": [
    {
     "name": "stderr",
     "output_type": "stream",
     "text": [
      "E:\\Annoconda\\lib\\site-packages\\seaborn\\_decorators.py:36: FutureWarning: Pass the following variables as keyword args: x, y. From version 0.12, the only valid positional argument will be `data`, and passing other arguments without an explicit keyword will result in an error or misinterpretation.\n",
      "  warnings.warn(\n"
     ]
    },
    {
     "data": {
      "text/plain": [
       "<AxesSubplot:xlabel='Taxable.Income', ylabel='City.Population'>"
      ]
     },
     "execution_count": 24,
     "metadata": {},
     "output_type": "execute_result"
    },
    {
     "data": {
      "image/png": "[encoded data removed]",
      "text/plain": [
       "<Figure size 432x288 with 1 Axes>"
      ]
     },
     "metadata": {
      "needs_background": "light"
     },
     "output_type": "display_data"
    }
   ],
   "source": [
    "sns.barplot(fraud['Taxable.Income'], fraud['City.Population'])"
   ]
  },
  {
   "cell_type": "code",
   "execution_count": 25,
   "id": "c76340f0",
   "metadata": {
    "ExecuteTime": {
     "end_time": "2021-09-16T19:49:18.677497Z",
     "start_time": "2021-09-16T19:49:03.860788Z"
    }
   },
   "outputs": [
    {
     "name": "stderr",
     "output_type": "stream",
     "text": [
      "E:\\Annoconda\\lib\\site-packages\\seaborn\\_decorators.py:36: FutureWarning: Pass the following variables as keyword args: x, y. From version 0.12, the only valid positional argument will be `data`, and passing other arguments without an explicit keyword will result in an error or misinterpretation.\n",
      "  warnings.warn(\n"
     ]
    },
    {
     "data": {
      "text/plain": [
       "<AxesSubplot:xlabel='Taxable.Income', ylabel='City.Population'>"
      ]
     },
     "execution_count": 25,
     "metadata": {},
     "output_type": "execute_result"
    },
    {
     "data": {
      "image/png": "[encoded data removed]",
      "text/plain": [
       "<Figure size 432x288 with 1 Axes>"
      ]
     },
     "metadata": {
      "needs_background": "light"
     },
     "output_type": "display_data"
    }
   ],
   "source": [
    "sns.boxplot(fraud['Taxable.Income'], fraud['City.Population'])"
   ]
  },
  {
   "cell_type": "code",
   "execution_count": 26,
   "id": "f60cd04b",
   "metadata": {
    "ExecuteTime": {
     "end_time": "2021-09-16T19:49:19.219110Z",
     "start_time": "2021-09-16T19:49:18.755130Z"
    }
   },
   "outputs": [
    {
     "data": {
      "text/plain": [
       "<seaborn.axisgrid.FacetGrid at 0x28931ee3b80>"
      ]
     },
     "execution_count": 26,
     "metadata": {},
     "output_type": "execute_result"
    },
    {
     "data": {
      "image/png": "[encoded data removed]",
      "text/plain": [
       "<Figure size 360x360 with 1 Axes>"
      ]
     },
     "metadata": {
      "needs_background": "light"
     },
     "output_type": "display_data"
    }
   ],
   "source": [
    "sns.lmplot(x='Taxable.Income',y='City.Population', data=fraud)"
   ]
  },
  {
   "cell_type": "code",
   "execution_count": 27,
   "id": "f1ea832c",
   "metadata": {
    "ExecuteTime": {
     "end_time": "2021-09-16T19:49:25.387469Z",
     "start_time": "2021-09-16T19:49:25.052687Z"
    }
   },
   "outputs": [
    {
     "name": "stderr",
     "output_type": "stream",
     "text": [
      "E:\\Annoconda\\lib\\site-packages\\seaborn\\_decorators.py:36: FutureWarning: Pass the following variables as keyword args: x, y. From version 0.12, the only valid positional argument will be `data`, and passing other arguments without an explicit keyword will result in an error or misinterpretation.\n",
      "  warnings.warn(\n"
     ]
    },
    {
     "data": {
      "text/plain": [
       "<seaborn.axisgrid.JointGrid at 0x289320d8a90>"
      ]
     },
     "execution_count": 27,
     "metadata": {},
     "output_type": "execute_result"
    },
    {
     "data": {
      "image/png": "[encoded data removed]",
      "text/plain": [
       "<Figure size 432x432 with 3 Axes>"
      ]
     },
     "metadata": {
      "needs_background": "light"
     },
     "output_type": "display_data"
    }
   ],
   "source": [
    "sns.jointplot(fraud['Taxable.Income'], fraud['City.Population'])"
   ]
  },
  {
   "cell_type": "code",
   "execution_count": 28,
   "id": "21984d40",
   "metadata": {
    "ExecuteTime": {
     "end_time": "2021-09-16T19:50:19.212197Z",
     "start_time": "2021-09-16T19:49:32.872975Z"
    }
   },
   "outputs": [
    {
     "name": "stderr",
     "output_type": "stream",
     "text": [
      "E:\\Annoconda\\lib\\site-packages\\seaborn\\_decorators.py:36: FutureWarning: Pass the following variables as keyword args: x, y. From version 0.12, the only valid positional argument will be `data`, and passing other arguments without an explicit keyword will result in an error or misinterpretation.\n",
      "  warnings.warn(\n"
     ]
    },
    {
     "data": {
      "text/plain": [
       "<AxesSubplot:xlabel='Taxable.Income', ylabel='City.Population'>"
      ]
     },
     "execution_count": 28,
     "metadata": {},
     "output_type": "execute_result"
    },
    {
     "data": {
      "image/png": "[encoded data removed]",
      "text/plain": [
       "<Figure size 432x288 with 1 Axes>"
      ]
     },
     "metadata": {
      "needs_background": "light"
     },
     "output_type": "display_data"
    }
   ],
   "source": [
    "sns.stripplot(fraud['Taxable.Income'], fraud['City.Population'])"
   ]
  },
  {
   "cell_type": "code",
   "execution_count": 29,
   "id": "113b8116",
   "metadata": {
    "ExecuteTime": {
     "end_time": "2021-09-16T19:50:19.547475Z",
     "start_time": "2021-09-16T19:50:19.320039Z"
    }
   },
   "outputs": [
    {
     "name": "stderr",
     "output_type": "stream",
     "text": [
      "E:\\Annoconda\\lib\\site-packages\\seaborn\\distributions.py:2557: FutureWarning: `distplot` is a deprecated function and will be removed in a future version. Please adapt your code to use either `displot` (a figure-level function with similar flexibility) or `histplot` (an axes-level function for histograms).\n",
      "  warnings.warn(msg, FutureWarning)\n"
     ]
    },
    {
     "data": {
      "text/plain": [
       "<AxesSubplot:xlabel='Taxable.Income', ylabel='Density'>"
      ]
     },
     "execution_count": 29,
     "metadata": {},
     "output_type": "execute_result"
    },
    {
     "data": {
      "image/png": "[encoded data removed]",
      "text/plain": [
       "<Figure size 432x288 with 1 Axes>"
      ]
     },
     "metadata": {
      "needs_background": "light"
     },
     "output_type": "display_data"
    }
   ],
   "source": [
    "sns.distplot(fraud['Taxable.Income'])"
   ]
  },
  {
   "cell_type": "code",
   "execution_count": 30,
   "id": "49805609",
   "metadata": {
    "ExecuteTime": {
     "end_time": "2021-09-16T19:50:19.824281Z",
     "start_time": "2021-09-16T19:50:19.643115Z"
    }
   },
   "outputs": [
    {
     "name": "stderr",
     "output_type": "stream",
     "text": [
      "E:\\Annoconda\\lib\\site-packages\\seaborn\\distributions.py:2557: FutureWarning: `distplot` is a deprecated function and will be removed in a future version. Please adapt your code to use either `displot` (a figure-level function with similar flexibility) or `histplot` (an axes-level function for histograms).\n",
      "  warnings.warn(msg, FutureWarning)\n"
     ]
    },
    {
     "data": {
      "text/plain": [
       "<AxesSubplot:xlabel='City.Population', ylabel='Density'>"
      ]
     },
     "execution_count": 30,
     "metadata": {},
     "output_type": "execute_result"
    },
    {
     "data": {
      "image/png": "[encoded data removed]",
      "text/plain": [
       "<Figure size 432x288 with 1 Axes>"
      ]
     },
     "metadata": {
      "needs_background": "light"
     },
     "output_type": "display_data"
    }
   ],
   "source": [
    "sns.distplot(fraud['City.Population'])"
   ]
  },
  {
   "cell_type": "markdown",
   "id": "2446a4d0",
   "metadata": {},
   "source": [
    "# Building Random Forest Model"
   ]
  },
  {
   "cell_type": "code",
   "execution_count": 31,
   "id": "6047eebb",
   "metadata": {
    "ExecuteTime": {
     "end_time": "2021-09-16T19:53:32.194877Z",
     "start_time": "2021-09-16T19:53:32.178876Z"
    }
   },
   "outputs": [],
   "source": [
    "from sklearn.ensemble import RandomForestClassifier\n",
    "rf = RandomForestClassifier(n_jobs = 3, oob_score = True, n_estimators = 15, criterion = \"entropy\")"
   ]
  },
  {
   "cell_type": "code",
   "execution_count": 32,
   "id": "06dc2611",
   "metadata": {
    "ExecuteTime": {
     "end_time": "2021-09-16T19:53:39.169669Z",
     "start_time": "2021-09-16T19:53:39.161615Z"
    }
   },
   "outputs": [
    {
     "data": {
      "text/plain": [
       "(600, 10)"
      ]
     },
     "execution_count": 32,
     "metadata": {},
     "output_type": "execute_result"
    }
   ],
   "source": [
    "np.shape(Fraud_final)"
   ]
  },
  {
   "cell_type": "code",
   "execution_count": 33,
   "id": "19c63455",
   "metadata": {
    "ExecuteTime": {
     "end_time": "2021-09-16T19:53:44.402886Z",
     "start_time": "2021-09-16T19:53:44.354210Z"
    }
   },
   "outputs": [
    {
     "data": {
      "text/html": [
       "<div>\n",
       "<style scoped>\n",
       "    .dataframe tbody tr th:only-of-type {\n",
       "        vertical-align: middle;\n",
       "    }\n",
       "\n",
       "    .dataframe tbody tr th {\n",
       "        vertical-align: top;\n",
       "    }\n",
       "\n",
       "    .dataframe thead th {\n",
       "        text-align: right;\n",
       "    }\n",
       "</style>\n",
       "<table border=\"1\" class=\"dataframe\">\n",
       "  <thead>\n",
       "    <tr style=\"text-align: right;\">\n",
       "      <th></th>\n",
       "      <th>City.Population</th>\n",
       "      <th>Work.Experience</th>\n",
       "      <th>Undergrad_NO</th>\n",
       "      <th>Undergrad_YES</th>\n",
       "      <th>Marital.Status_Divorced</th>\n",
       "      <th>Marital.Status_Married</th>\n",
       "      <th>Marital.Status_Single</th>\n",
       "      <th>Urban_NO</th>\n",
       "      <th>Urban_YES</th>\n",
       "    </tr>\n",
       "  </thead>\n",
       "  <tbody>\n",
       "    <tr>\n",
       "      <th>count</th>\n",
       "      <td>600.000000</td>\n",
       "      <td>600.000000</td>\n",
       "      <td>600.000000</td>\n",
       "      <td>600.000000</td>\n",
       "      <td>600.000000</td>\n",
       "      <td>600.000000</td>\n",
       "      <td>600.000000</td>\n",
       "      <td>600.000000</td>\n",
       "      <td>600.000000</td>\n",
       "    </tr>\n",
       "    <tr>\n",
       "      <th>mean</th>\n",
       "      <td>108747.368333</td>\n",
       "      <td>15.558333</td>\n",
       "      <td>0.480000</td>\n",
       "      <td>0.520000</td>\n",
       "      <td>0.315000</td>\n",
       "      <td>0.323333</td>\n",
       "      <td>0.361667</td>\n",
       "      <td>0.496667</td>\n",
       "      <td>0.503333</td>\n",
       "    </tr>\n",
       "    <tr>\n",
       "      <th>std</th>\n",
       "      <td>49850.075134</td>\n",
       "      <td>8.842147</td>\n",
       "      <td>0.500017</td>\n",
       "      <td>0.500017</td>\n",
       "      <td>0.464903</td>\n",
       "      <td>0.468139</td>\n",
       "      <td>0.480884</td>\n",
       "      <td>0.500406</td>\n",
       "      <td>0.500406</td>\n",
       "    </tr>\n",
       "    <tr>\n",
       "      <th>min</th>\n",
       "      <td>25779.000000</td>\n",
       "      <td>0.000000</td>\n",
       "      <td>0.000000</td>\n",
       "      <td>0.000000</td>\n",
       "      <td>0.000000</td>\n",
       "      <td>0.000000</td>\n",
       "      <td>0.000000</td>\n",
       "      <td>0.000000</td>\n",
       "      <td>0.000000</td>\n",
       "    </tr>\n",
       "    <tr>\n",
       "      <th>25%</th>\n",
       "      <td>66966.750000</td>\n",
       "      <td>8.000000</td>\n",
       "      <td>0.000000</td>\n",
       "      <td>0.000000</td>\n",
       "      <td>0.000000</td>\n",
       "      <td>0.000000</td>\n",
       "      <td>0.000000</td>\n",
       "      <td>0.000000</td>\n",
       "      <td>0.000000</td>\n",
       "    </tr>\n",
       "    <tr>\n",
       "      <th>50%</th>\n",
       "      <td>106493.500000</td>\n",
       "      <td>15.000000</td>\n",
       "      <td>0.000000</td>\n",
       "      <td>1.000000</td>\n",
       "      <td>0.000000</td>\n",
       "      <td>0.000000</td>\n",
       "      <td>0.000000</td>\n",
       "      <td>0.000000</td>\n",
       "      <td>1.000000</td>\n",
       "    </tr>\n",
       "    <tr>\n",
       "      <th>75%</th>\n",
       "      <td>150114.250000</td>\n",
       "      <td>24.000000</td>\n",
       "      <td>1.000000</td>\n",
       "      <td>1.000000</td>\n",
       "      <td>1.000000</td>\n",
       "      <td>1.000000</td>\n",
       "      <td>1.000000</td>\n",
       "      <td>1.000000</td>\n",
       "      <td>1.000000</td>\n",
       "    </tr>\n",
       "    <tr>\n",
       "      <th>max</th>\n",
       "      <td>199778.000000</td>\n",
       "      <td>30.000000</td>\n",
       "      <td>1.000000</td>\n",
       "      <td>1.000000</td>\n",
       "      <td>1.000000</td>\n",
       "      <td>1.000000</td>\n",
       "      <td>1.000000</td>\n",
       "      <td>1.000000</td>\n",
       "      <td>1.000000</td>\n",
       "    </tr>\n",
       "  </tbody>\n",
       "</table>\n",
       "</div>"
      ],
      "text/plain": [
       "       City.Population  Work.Experience  Undergrad_NO  Undergrad_YES  \\\n",
       "count       600.000000       600.000000    600.000000     600.000000   \n",
       "mean     108747.368333        15.558333      0.480000       0.520000   \n",
       "std       49850.075134         8.842147      0.500017       0.500017   \n",
       "min       25779.000000         0.000000      0.000000       0.000000   \n",
       "25%       66966.750000         8.000000      0.000000       0.000000   \n",
       "50%      106493.500000        15.000000      0.000000       1.000000   \n",
       "75%      150114.250000        24.000000      1.000000       1.000000   \n",
       "max      199778.000000        30.000000      1.000000       1.000000   \n",
       "\n",
       "       Marital.Status_Divorced  Marital.Status_Married  Marital.Status_Single  \\\n",
       "count               600.000000              600.000000             600.000000   \n",
       "mean                  0.315000                0.323333               0.361667   \n",
       "std                   0.464903                0.468139               0.480884   \n",
       "min                   0.000000                0.000000               0.000000   \n",
       "25%                   0.000000                0.000000               0.000000   \n",
       "50%                   0.000000                0.000000               0.000000   \n",
       "75%                   1.000000                1.000000               1.000000   \n",
       "max                   1.000000                1.000000               1.000000   \n",
       "\n",
       "         Urban_NO   Urban_YES  \n",
       "count  600.000000  600.000000  \n",
       "mean     0.496667    0.503333  \n",
       "std      0.500406    0.500406  \n",
       "min      0.000000    0.000000  \n",
       "25%      0.000000    0.000000  \n",
       "50%      0.000000    1.000000  \n",
       "75%      1.000000    1.000000  \n",
       "max      1.000000    1.000000  "
      ]
     },
     "execution_count": 33,
     "metadata": {},
     "output_type": "execute_result"
    }
   ],
   "source": [
    "Fraud_final.describe()"
   ]
  },
  {
   "cell_type": "code",
   "execution_count": 34,
   "id": "4a981904",
   "metadata": {
    "ExecuteTime": {
     "end_time": "2021-09-16T19:53:51.665501Z",
     "start_time": "2021-09-16T19:53:51.624551Z"
    }
   },
   "outputs": [
    {
     "name": "stdout",
     "output_type": "stream",
     "text": [
      "<class 'pandas.core.frame.DataFrame'>\n",
      "RangeIndex: 600 entries, 0 to 599\n",
      "Data columns (total 10 columns):\n",
      " #   Column                   Non-Null Count  Dtype   \n",
      "---  ------                   --------------  -----   \n",
      " 0   City.Population          600 non-null    int64   \n",
      " 1   Work.Experience          600 non-null    int64   \n",
      " 2   Undergrad_NO             600 non-null    uint8   \n",
      " 3   Undergrad_YES            600 non-null    uint8   \n",
      " 4   Marital.Status_Divorced  600 non-null    uint8   \n",
      " 5   Marital.Status_Married   600 non-null    uint8   \n",
      " 6   Marital.Status_Single    600 non-null    uint8   \n",
      " 7   Urban_NO                 600 non-null    uint8   \n",
      " 8   Urban_YES                600 non-null    uint8   \n",
      " 9   TaxInc                   600 non-null    category\n",
      "dtypes: category(1), int64(2), uint8(7)\n",
      "memory usage: 14.3 KB\n"
     ]
    }
   ],
   "source": [
    "Fraud_final.info()"
   ]
  },
  {
   "cell_type": "code",
   "execution_count": 35,
   "id": "51d1a997",
   "metadata": {
    "ExecuteTime": {
     "end_time": "2021-09-16T19:53:58.202888Z",
     "start_time": "2021-09-16T19:53:58.178893Z"
    }
   },
   "outputs": [
    {
     "data": {
      "text/plain": [
       "list"
      ]
     },
     "execution_count": 35,
     "metadata": {},
     "output_type": "execute_result"
    }
   ],
   "source": [
    "type([X])"
   ]
  },
  {
   "cell_type": "code",
   "execution_count": 36,
   "id": "da42b593",
   "metadata": {
    "ExecuteTime": {
     "end_time": "2021-09-16T19:54:04.090411Z",
     "start_time": "2021-09-16T19:54:04.074789Z"
    }
   },
   "outputs": [
    {
     "data": {
      "text/plain": [
       "list"
      ]
     },
     "execution_count": 36,
     "metadata": {},
     "output_type": "execute_result"
    }
   ],
   "source": [
    "type([Y])"
   ]
  },
  {
   "cell_type": "code",
   "execution_count": 37,
   "id": "8ee01b7d",
   "metadata": {
    "ExecuteTime": {
     "end_time": "2021-09-16T19:54:15.426919Z",
     "start_time": "2021-09-16T19:54:15.410923Z"
    }
   },
   "outputs": [
    {
     "data": {
      "text/html": [
       "<div>\n",
       "<style scoped>\n",
       "    .dataframe tbody tr th:only-of-type {\n",
       "        vertical-align: middle;\n",
       "    }\n",
       "\n",
       "    .dataframe tbody tr th {\n",
       "        vertical-align: top;\n",
       "    }\n",
       "\n",
       "    .dataframe thead th {\n",
       "        text-align: right;\n",
       "    }\n",
       "</style>\n",
       "<table border=\"1\" class=\"dataframe\">\n",
       "  <thead>\n",
       "    <tr style=\"text-align: right;\">\n",
       "      <th></th>\n",
       "      <th>TaxInc</th>\n",
       "    </tr>\n",
       "  </thead>\n",
       "  <tbody>\n",
       "    <tr>\n",
       "      <th>0</th>\n",
       "      <td>Good</td>\n",
       "    </tr>\n",
       "    <tr>\n",
       "      <th>1</th>\n",
       "      <td>Good</td>\n",
       "    </tr>\n",
       "    <tr>\n",
       "      <th>2</th>\n",
       "      <td>Good</td>\n",
       "    </tr>\n",
       "    <tr>\n",
       "      <th>3</th>\n",
       "      <td>Good</td>\n",
       "    </tr>\n",
       "    <tr>\n",
       "      <th>4</th>\n",
       "      <td>Good</td>\n",
       "    </tr>\n",
       "    <tr>\n",
       "      <th>...</th>\n",
       "      <td>...</td>\n",
       "    </tr>\n",
       "    <tr>\n",
       "      <th>595</th>\n",
       "      <td>Good</td>\n",
       "    </tr>\n",
       "    <tr>\n",
       "      <th>596</th>\n",
       "      <td>Good</td>\n",
       "    </tr>\n",
       "    <tr>\n",
       "      <th>597</th>\n",
       "      <td>Good</td>\n",
       "    </tr>\n",
       "    <tr>\n",
       "      <th>598</th>\n",
       "      <td>Good</td>\n",
       "    </tr>\n",
       "    <tr>\n",
       "      <th>599</th>\n",
       "      <td>Good</td>\n",
       "    </tr>\n",
       "  </tbody>\n",
       "</table>\n",
       "<p>600 rows × 1 columns</p>\n",
       "</div>"
      ],
      "text/plain": [
       "    TaxInc\n",
       "0     Good\n",
       "1     Good\n",
       "2     Good\n",
       "3     Good\n",
       "4     Good\n",
       "..     ...\n",
       "595   Good\n",
       "596   Good\n",
       "597   Good\n",
       "598   Good\n",
       "599   Good\n",
       "\n",
       "[600 rows x 1 columns]"
      ]
     },
     "execution_count": 37,
     "metadata": {},
     "output_type": "execute_result"
    }
   ],
   "source": [
    "Y1 = pd.DataFrame(Y)\n",
    "Y1"
   ]
  },
  {
   "cell_type": "code",
   "execution_count": 38,
   "id": "a501ef2e",
   "metadata": {
    "ExecuteTime": {
     "end_time": "2021-09-16T19:54:21.494988Z",
     "start_time": "2021-09-16T19:54:21.470998Z"
    }
   },
   "outputs": [
    {
     "data": {
      "text/plain": [
       "pandas.core.frame.DataFrame"
      ]
     },
     "execution_count": 38,
     "metadata": {},
     "output_type": "execute_result"
    }
   ],
   "source": [
    "type(Y1)"
   ]
  },
  {
   "cell_type": "code",
   "execution_count": 39,
   "id": "ca7e7c0c",
   "metadata": {
    "ExecuteTime": {
     "end_time": "2021-09-16T19:54:28.817683Z",
     "start_time": "2021-09-16T19:54:28.744338Z"
    }
   },
   "outputs": [
    {
     "name": "stderr",
     "output_type": "stream",
     "text": [
      "<ipython-input-39-76d304e49a31>:1: DataConversionWarning: A column-vector y was passed when a 1d array was expected. Please change the shape of y to (n_samples,), for example using ravel().\n",
      "  rf.fit(X,Y1)\n"
     ]
    },
    {
     "data": {
      "text/plain": [
       "RandomForestClassifier(criterion='entropy', n_estimators=15, n_jobs=3,\n",
       "                       oob_score=True)"
      ]
     },
     "execution_count": 39,
     "metadata": {},
     "output_type": "execute_result"
    }
   ],
   "source": [
    "rf.fit(X,Y1)"
   ]
  },
  {
   "cell_type": "code",
   "execution_count": 40,
   "id": "3a4d81bc",
   "metadata": {
    "ExecuteTime": {
     "end_time": "2021-09-16T19:54:35.523270Z",
     "start_time": "2021-09-16T19:54:35.499282Z"
    }
   },
   "outputs": [
    {
     "data": {
      "text/plain": [
       "[DecisionTreeClassifier(criterion='entropy', max_features='auto',\n",
       "                        random_state=1830665937),\n",
       " DecisionTreeClassifier(criterion='entropy', max_features='auto',\n",
       "                        random_state=281376274),\n",
       " DecisionTreeClassifier(criterion='entropy', max_features='auto',\n",
       "                        random_state=2132396338),\n",
       " DecisionTreeClassifier(criterion='entropy', max_features='auto',\n",
       "                        random_state=2066928370),\n",
       " DecisionTreeClassifier(criterion='entropy', max_features='auto',\n",
       "                        random_state=1438917303),\n",
       " DecisionTreeClassifier(criterion='entropy', max_features='auto',\n",
       "                        random_state=221891354),\n",
       " DecisionTreeClassifier(criterion='entropy', max_features='auto',\n",
       "                        random_state=1572441557),\n",
       " DecisionTreeClassifier(criterion='entropy', max_features='auto',\n",
       "                        random_state=707967692),\n",
       " DecisionTreeClassifier(criterion='entropy', max_features='auto',\n",
       "                        random_state=2119250344),\n",
       " DecisionTreeClassifier(criterion='entropy', max_features='auto',\n",
       "                        random_state=1869071751),\n",
       " DecisionTreeClassifier(criterion='entropy', max_features='auto',\n",
       "                        random_state=906383277),\n",
       " DecisionTreeClassifier(criterion='entropy', max_features='auto',\n",
       "                        random_state=1139718910),\n",
       " DecisionTreeClassifier(criterion='entropy', max_features='auto',\n",
       "                        random_state=1979600665),\n",
       " DecisionTreeClassifier(criterion='entropy', max_features='auto',\n",
       "                        random_state=272743480),\n",
       " DecisionTreeClassifier(criterion='entropy', max_features='auto',\n",
       "                        random_state=213974831)]"
      ]
     },
     "execution_count": 40,
     "metadata": {},
     "output_type": "execute_result"
    }
   ],
   "source": [
    "rf.estimators_"
   ]
  },
  {
   "cell_type": "code",
   "execution_count": 41,
   "id": "7c7866ed",
   "metadata": {
    "ExecuteTime": {
     "end_time": "2021-09-16T19:54:41.744901Z",
     "start_time": "2021-09-16T19:54:41.720846Z"
    }
   },
   "outputs": [
    {
     "data": {
      "text/plain": [
       "array(['Good', 'Risky'], dtype=object)"
      ]
     },
     "execution_count": 41,
     "metadata": {},
     "output_type": "execute_result"
    }
   ],
   "source": [
    "rf.classes_"
   ]
  },
  {
   "cell_type": "code",
   "execution_count": 42,
   "id": "e4a01f77",
   "metadata": {
    "ExecuteTime": {
     "end_time": "2021-09-16T19:54:48.572356Z",
     "start_time": "2021-09-16T19:54:48.556358Z"
    }
   },
   "outputs": [
    {
     "data": {
      "text/plain": [
       "2"
      ]
     },
     "execution_count": 42,
     "metadata": {},
     "output_type": "execute_result"
    }
   ],
   "source": [
    "rf.n_classes_"
   ]
  },
  {
   "cell_type": "code",
   "execution_count": 43,
   "id": "565b09ee",
   "metadata": {
    "ExecuteTime": {
     "end_time": "2021-09-16T19:54:55.838825Z",
     "start_time": "2021-09-16T19:54:55.811792Z"
    }
   },
   "outputs": [
    {
     "data": {
      "text/plain": [
       "9"
      ]
     },
     "execution_count": 43,
     "metadata": {},
     "output_type": "execute_result"
    }
   ],
   "source": [
    "rf.n_features_"
   ]
  },
  {
   "cell_type": "code",
   "execution_count": 44,
   "id": "768d0cd7",
   "metadata": {
    "ExecuteTime": {
     "end_time": "2021-09-16T19:55:06.195905Z",
     "start_time": "2021-09-16T19:55:06.187877Z"
    }
   },
   "outputs": [
    {
     "data": {
      "text/plain": [
       "1"
      ]
     },
     "execution_count": 44,
     "metadata": {},
     "output_type": "execute_result"
    }
   ],
   "source": [
    "rf.n_outputs_"
   ]
  },
  {
   "cell_type": "code",
   "execution_count": 45,
   "id": "d432fee3",
   "metadata": {
    "ExecuteTime": {
     "end_time": "2021-09-16T19:55:11.607600Z",
     "start_time": "2021-09-16T19:55:11.599599Z"
    }
   },
   "outputs": [
    {
     "data": {
      "text/plain": [
       "0.7083333333333334"
      ]
     },
     "execution_count": 45,
     "metadata": {},
     "output_type": "execute_result"
    }
   ],
   "source": [
    "rf.oob_score_"
   ]
  },
  {
   "cell_type": "code",
   "execution_count": 46,
   "id": "728437c1",
   "metadata": {
    "ExecuteTime": {
     "end_time": "2021-09-16T19:55:18.013377Z",
     "start_time": "2021-09-16T19:55:17.981315Z"
    }
   },
   "outputs": [
    {
     "data": {
      "text/plain": [
       "array(['Good', 'Good', 'Good', 'Good', 'Good', 'Good', 'Good', 'Good',\n",
       "       'Good', 'Good', 'Risky', 'Good', 'Risky', 'Good', 'Good', 'Good',\n",
       "       'Risky', 'Good', 'Good', 'Risky', 'Good', 'Risky', 'Good', 'Good',\n",
       "       'Good', 'Good', 'Good', 'Good', 'Risky', 'Good', 'Good', 'Good',\n",
       "       'Good', 'Good', 'Risky', 'Good', 'Risky', 'Good', 'Risky', 'Good',\n",
       "       'Good', 'Good', 'Good', 'Good', 'Good', 'Good', 'Good', 'Good',\n",
       "       'Good', 'Good', 'Good', 'Good', 'Good', 'Risky', 'Good', 'Risky',\n",
       "       'Good', 'Good', 'Risky', 'Good', 'Good', 'Risky', 'Good', 'Good',\n",
       "       'Good', 'Good', 'Good', 'Good', 'Risky', 'Good', 'Good', 'Good',\n",
       "       'Good', 'Good', 'Good', 'Good', 'Good', 'Good', 'Good', 'Risky',\n",
       "       'Good', 'Good', 'Good', 'Good', 'Good', 'Risky', 'Good', 'Risky',\n",
       "       'Good', 'Risky', 'Good', 'Good', 'Good', 'Risky', 'Risky', 'Good',\n",
       "       'Risky', 'Good', 'Risky', 'Good', 'Good', 'Good', 'Good', 'Good',\n",
       "       'Good', 'Good', 'Risky', 'Good', 'Good', 'Good', 'Risky', 'Good',\n",
       "       'Good', 'Good', 'Risky', 'Good', 'Good', 'Good', 'Risky', 'Good',\n",
       "       'Good', 'Risky', 'Risky', 'Risky', 'Good', 'Good', 'Risky', 'Good',\n",
       "       'Good', 'Good', 'Good', 'Good', 'Good', 'Good', 'Good', 'Risky',\n",
       "       'Good', 'Risky', 'Good', 'Good', 'Risky', 'Good', 'Good', 'Risky',\n",
       "       'Good', 'Good', 'Good', 'Good', 'Good', 'Good', 'Good', 'Good',\n",
       "       'Risky', 'Risky', 'Good', 'Good', 'Good', 'Good', 'Risky', 'Good',\n",
       "       'Good', 'Good', 'Good', 'Risky', 'Good', 'Good', 'Good', 'Good',\n",
       "       'Good', 'Good', 'Good', 'Risky', 'Risky', 'Good', 'Good', 'Good',\n",
       "       'Good', 'Good', 'Good', 'Risky', 'Good', 'Risky', 'Risky', 'Good',\n",
       "       'Good', 'Good', 'Good', 'Good', 'Risky', 'Good', 'Good', 'Good',\n",
       "       'Good', 'Good', 'Risky', 'Good', 'Risky', 'Good', 'Good', 'Risky',\n",
       "       'Good', 'Good', 'Good', 'Good', 'Risky', 'Risky', 'Good', 'Risky',\n",
       "       'Good', 'Good', 'Good', 'Good', 'Good', 'Good', 'Good', 'Good',\n",
       "       'Good', 'Good', 'Good', 'Risky', 'Good', 'Good', 'Good', 'Good',\n",
       "       'Good', 'Good', 'Good', 'Good', 'Risky', 'Good', 'Risky', 'Good',\n",
       "       'Risky', 'Risky', 'Good', 'Good', 'Good', 'Risky', 'Good', 'Good',\n",
       "       'Good', 'Risky', 'Good', 'Good', 'Good', 'Good', 'Good', 'Risky',\n",
       "       'Risky', 'Good', 'Good', 'Good', 'Good', 'Good', 'Good', 'Good',\n",
       "       'Good', 'Good', 'Good', 'Good', 'Good', 'Good', 'Good', 'Good',\n",
       "       'Good', 'Risky', 'Good', 'Risky', 'Good', 'Good', 'Good', 'Good',\n",
       "       'Good', 'Good', 'Good', 'Good', 'Good', 'Good', 'Risky', 'Good',\n",
       "       'Good', 'Good', 'Good', 'Good', 'Risky', 'Good', 'Good', 'Good',\n",
       "       'Risky', 'Good', 'Good', 'Good', 'Risky', 'Good', 'Good', 'Good',\n",
       "       'Good', 'Good', 'Good', 'Good', 'Good', 'Risky', 'Good', 'Good',\n",
       "       'Good', 'Good', 'Good', 'Good', 'Good', 'Good', 'Good', 'Good',\n",
       "       'Good', 'Good', 'Good', 'Good', 'Good', 'Good', 'Good', 'Good',\n",
       "       'Good', 'Good', 'Good', 'Good', 'Good', 'Good', 'Good', 'Risky',\n",
       "       'Good', 'Risky', 'Good', 'Risky', 'Good', 'Risky', 'Good', 'Good',\n",
       "       'Good', 'Risky', 'Risky', 'Risky', 'Good', 'Good', 'Good', 'Good',\n",
       "       'Good', 'Good', 'Risky', 'Risky', 'Good', 'Risky', 'Good', 'Good',\n",
       "       'Risky', 'Good', 'Risky', 'Good', 'Risky', 'Risky', 'Good', 'Good',\n",
       "       'Good', 'Good', 'Risky', 'Risky', 'Good', 'Good', 'Good', 'Risky',\n",
       "       'Good', 'Good', 'Good', 'Good', 'Good', 'Good', 'Good', 'Good',\n",
       "       'Good', 'Good', 'Good', 'Risky', 'Good', 'Good', 'Good', 'Good',\n",
       "       'Good', 'Good', 'Good', 'Good', 'Good', 'Good', 'Good', 'Good',\n",
       "       'Risky', 'Good', 'Good', 'Good', 'Good', 'Good', 'Risky', 'Good',\n",
       "       'Good', 'Good', 'Good', 'Good', 'Good', 'Good', 'Good', 'Good',\n",
       "       'Good', 'Good', 'Good', 'Good', 'Good', 'Good', 'Good', 'Good',\n",
       "       'Good', 'Good', 'Good', 'Good', 'Good', 'Good', 'Good', 'Good',\n",
       "       'Good', 'Good', 'Good', 'Good', 'Risky', 'Good', 'Good', 'Good',\n",
       "       'Good', 'Risky', 'Risky', 'Good', 'Good', 'Risky', 'Risky',\n",
       "       'Risky', 'Good', 'Good', 'Good', 'Risky', 'Risky', 'Good', 'Risky',\n",
       "       'Good', 'Good', 'Good', 'Good', 'Good', 'Good', 'Good', 'Good',\n",
       "       'Good', 'Good', 'Risky', 'Risky', 'Risky', 'Good', 'Good', 'Risky',\n",
       "       'Good', 'Good', 'Risky', 'Good', 'Good', 'Good', 'Good', 'Good',\n",
       "       'Risky', 'Good', 'Good', 'Good', 'Good', 'Good', 'Good', 'Good',\n",
       "       'Good', 'Good', 'Good', 'Good', 'Risky', 'Good', 'Good', 'Good',\n",
       "       'Good', 'Good', 'Good', 'Good', 'Risky', 'Good', 'Risky', 'Good',\n",
       "       'Good', 'Good', 'Good', 'Good', 'Good', 'Good', 'Good', 'Good',\n",
       "       'Good', 'Good', 'Good', 'Risky', 'Good', 'Good', 'Risky', 'Good',\n",
       "       'Good', 'Good', 'Good', 'Good', 'Good', 'Good', 'Risky', 'Good',\n",
       "       'Good', 'Good', 'Good', 'Good', 'Good', 'Risky', 'Good', 'Risky',\n",
       "       'Good', 'Good', 'Good', 'Good', 'Good', 'Good', 'Risky', 'Good',\n",
       "       'Good', 'Good', 'Good', 'Good', 'Good', 'Risky', 'Risky', 'Good',\n",
       "       'Good', 'Risky', 'Good', 'Good', 'Good', 'Good', 'Good', 'Good',\n",
       "       'Good', 'Good', 'Good', 'Good', 'Good', 'Good', 'Good', 'Good',\n",
       "       'Good', 'Good', 'Good', 'Good', 'Good', 'Good', 'Good', 'Good',\n",
       "       'Risky', 'Good', 'Good', 'Good', 'Good', 'Good', 'Good', 'Good',\n",
       "       'Risky', 'Good', 'Good', 'Good', 'Good', 'Good', 'Good', 'Good',\n",
       "       'Good', 'Good', 'Good', 'Good', 'Good', 'Good', 'Good', 'Good',\n",
       "       'Risky', 'Good', 'Good', 'Good', 'Good', 'Good', 'Good', 'Good',\n",
       "       'Good'], dtype=object)"
      ]
     },
     "execution_count": 46,
     "metadata": {},
     "output_type": "execute_result"
    }
   ],
   "source": [
    "rf.predict(X)"
   ]
  },
  {
   "cell_type": "code",
   "execution_count": 47,
   "id": "2d510890",
   "metadata": {
    "ExecuteTime": {
     "end_time": "2021-09-16T19:55:27.639977Z",
     "start_time": "2021-09-16T19:55:27.615916Z"
    }
   },
   "outputs": [],
   "source": [
    "Fraud_final['rf_pred'] = rf.predict(X)"
   ]
  },
  {
   "cell_type": "code",
   "execution_count": 48,
   "id": "342d7e04",
   "metadata": {
    "ExecuteTime": {
     "end_time": "2021-09-16T19:55:38.574774Z",
     "start_time": "2021-09-16T19:55:38.566751Z"
    }
   },
   "outputs": [],
   "source": [
    "cols = ['rf_pred','TaxInc']"
   ]
  },
  {
   "cell_type": "code",
   "execution_count": 49,
   "id": "81aa3a08",
   "metadata": {
    "ExecuteTime": {
     "end_time": "2021-09-16T19:55:44.442303Z",
     "start_time": "2021-09-16T19:55:44.417615Z"
    }
   },
   "outputs": [
    {
     "data": {
      "text/html": [
       "<div>\n",
       "<style scoped>\n",
       "    .dataframe tbody tr th:only-of-type {\n",
       "        vertical-align: middle;\n",
       "    }\n",
       "\n",
       "    .dataframe tbody tr th {\n",
       "        vertical-align: top;\n",
       "    }\n",
       "\n",
       "    .dataframe thead th {\n",
       "        text-align: right;\n",
       "    }\n",
       "</style>\n",
       "<table border=\"1\" class=\"dataframe\">\n",
       "  <thead>\n",
       "    <tr style=\"text-align: right;\">\n",
       "      <th></th>\n",
       "      <th>rf_pred</th>\n",
       "      <th>TaxInc</th>\n",
       "    </tr>\n",
       "  </thead>\n",
       "  <tbody>\n",
       "    <tr>\n",
       "      <th>0</th>\n",
       "      <td>Good</td>\n",
       "      <td>Good</td>\n",
       "    </tr>\n",
       "    <tr>\n",
       "      <th>1</th>\n",
       "      <td>Good</td>\n",
       "      <td>Good</td>\n",
       "    </tr>\n",
       "    <tr>\n",
       "      <th>2</th>\n",
       "      <td>Good</td>\n",
       "      <td>Good</td>\n",
       "    </tr>\n",
       "    <tr>\n",
       "      <th>3</th>\n",
       "      <td>Good</td>\n",
       "      <td>Good</td>\n",
       "    </tr>\n",
       "    <tr>\n",
       "      <th>4</th>\n",
       "      <td>Good</td>\n",
       "      <td>Good</td>\n",
       "    </tr>\n",
       "  </tbody>\n",
       "</table>\n",
       "</div>"
      ],
      "text/plain": [
       "  rf_pred TaxInc\n",
       "0    Good   Good\n",
       "1    Good   Good\n",
       "2    Good   Good\n",
       "3    Good   Good\n",
       "4    Good   Good"
      ]
     },
     "execution_count": 49,
     "metadata": {},
     "output_type": "execute_result"
    }
   ],
   "source": [
    "Fraud_final[cols].head()"
   ]
  },
  {
   "cell_type": "code",
   "execution_count": 50,
   "id": "fd4cadde",
   "metadata": {
    "ExecuteTime": {
     "end_time": "2021-09-16T19:55:50.927740Z",
     "start_time": "2021-09-16T19:55:50.903737Z"
    }
   },
   "outputs": [
    {
     "data": {
      "text/plain": [
       "0      Good\n",
       "1      Good\n",
       "2      Good\n",
       "3      Good\n",
       "4      Good\n",
       "       ... \n",
       "595    Good\n",
       "596    Good\n",
       "597    Good\n",
       "598    Good\n",
       "599    Good\n",
       "Name: TaxInc, Length: 600, dtype: category\n",
       "Categories (2, object): ['Risky' < 'Good']"
      ]
     },
     "execution_count": 50,
     "metadata": {},
     "output_type": "execute_result"
    }
   ],
   "source": [
    "Fraud_final[\"TaxInc\"]"
   ]
  },
  {
   "cell_type": "code",
   "execution_count": 51,
   "id": "b1a99ce8",
   "metadata": {
    "ExecuteTime": {
     "end_time": "2021-09-16T19:55:58.396673Z",
     "start_time": "2021-09-16T19:55:58.380677Z"
    }
   },
   "outputs": [],
   "source": [
    "from sklearn.metrics import confusion_matrix"
   ]
  },
  {
   "cell_type": "markdown",
   "id": "1b803fb7",
   "metadata": {},
   "source": [
    "# Confusion matrix"
   ]
  },
  {
   "cell_type": "code",
   "execution_count": 52,
   "id": "3c18277b",
   "metadata": {
    "ExecuteTime": {
     "end_time": "2021-09-16T19:56:16.617553Z",
     "start_time": "2021-09-16T19:56:16.601535Z"
    }
   },
   "outputs": [
    {
     "data": {
      "text/plain": [
       "array([[476,   0],\n",
       "       [  8, 116]], dtype=int64)"
      ]
     },
     "execution_count": 52,
     "metadata": {},
     "output_type": "execute_result"
    }
   ],
   "source": [
    "confusion_matrix(Fraud_final['TaxInc'],Fraud_final['rf_pred']) "
   ]
  },
  {
   "cell_type": "code",
   "execution_count": 53,
   "id": "1658833b",
   "metadata": {
    "ExecuteTime": {
     "end_time": "2021-09-16T19:56:27.139281Z",
     "start_time": "2021-09-16T19:56:27.099097Z"
    }
   },
   "outputs": [
    {
     "data": {
      "text/html": [
       "<div>\n",
       "<style scoped>\n",
       "    .dataframe tbody tr th:only-of-type {\n",
       "        vertical-align: middle;\n",
       "    }\n",
       "\n",
       "    .dataframe tbody tr th {\n",
       "        vertical-align: top;\n",
       "    }\n",
       "\n",
       "    .dataframe thead th {\n",
       "        text-align: right;\n",
       "    }\n",
       "</style>\n",
       "<table border=\"1\" class=\"dataframe\">\n",
       "  <thead>\n",
       "    <tr style=\"text-align: right;\">\n",
       "      <th>rf_pred</th>\n",
       "      <th>Good</th>\n",
       "      <th>Risky</th>\n",
       "    </tr>\n",
       "    <tr>\n",
       "      <th>TaxInc</th>\n",
       "      <th></th>\n",
       "      <th></th>\n",
       "    </tr>\n",
       "  </thead>\n",
       "  <tbody>\n",
       "    <tr>\n",
       "      <th>Risky</th>\n",
       "      <td>8</td>\n",
       "      <td>116</td>\n",
       "    </tr>\n",
       "    <tr>\n",
       "      <th>Good</th>\n",
       "      <td>476</td>\n",
       "      <td>0</td>\n",
       "    </tr>\n",
       "  </tbody>\n",
       "</table>\n",
       "</div>"
      ],
      "text/plain": [
       "rf_pred  Good  Risky\n",
       "TaxInc              \n",
       "Risky       8    116\n",
       "Good      476      0"
      ]
     },
     "execution_count": 53,
     "metadata": {},
     "output_type": "execute_result"
    }
   ],
   "source": [
    "pd.crosstab(Fraud_final['TaxInc'],Fraud_final['rf_pred'])"
   ]
  },
  {
   "cell_type": "code",
   "execution_count": 54,
   "id": "99aed56f",
   "metadata": {
    "ExecuteTime": {
     "end_time": "2021-09-16T19:56:36.634235Z",
     "start_time": "2021-09-16T19:56:36.626235Z"
    }
   },
   "outputs": [
    {
     "name": "stdout",
     "output_type": "stream",
     "text": [
      "Accuracy 98.5\n"
     ]
    }
   ],
   "source": [
    "print(\"Accuracy\",(476+115)/(476+115+9+0)*100)"
   ]
  },
  {
   "cell_type": "code",
   "execution_count": 55,
   "id": "c0632a79",
   "metadata": {
    "ExecuteTime": {
     "end_time": "2021-09-16T19:56:47.503391Z",
     "start_time": "2021-09-16T19:56:47.481635Z"
    }
   },
   "outputs": [
    {
     "data": {
      "text/plain": [
       "0      Good\n",
       "1      Good\n",
       "2      Good\n",
       "3      Good\n",
       "4      Good\n",
       "       ... \n",
       "595    Good\n",
       "596    Good\n",
       "597    Good\n",
       "598    Good\n",
       "599    Good\n",
       "Name: rf_pred, Length: 600, dtype: object"
      ]
     },
     "execution_count": 55,
     "metadata": {},
     "output_type": "execute_result"
    }
   ],
   "source": [
    "Fraud_final[\"rf_pred\"]"
   ]
  },
  {
   "cell_type": "code",
   "execution_count": null,
   "id": "6502e0dc",
   "metadata": {},
   "outputs": [],
   "source": []
  }
 ],
 "metadata": {
  "kernelspec": {
   "display_name": "Python 3",
   "language": "python",
   "name": "python3"
  },
  "language_info": {
   "codemirror_mode": {
    "name": "ipython",
    "version": 3
   },
   "file_extension": ".py",
   "mimetype": "text/x-python",
   "name": "python",
   "nbconvert_exporter": "python",
   "pygments_lexer": "ipython3",
   "version": "3.8.8"
  },
  "varInspector": {
   "cols": {
    "lenName": 16,
    "lenType": 16,
    "lenVar": 40
   },
   "kernels_config": {
    "python": {
     "delete_cmd_postfix": "",
     "delete_cmd_prefix": "del ",
     "library": "var_list.py",
     "varRefreshCmd": "print(var_dic_list())"
    },
    "r": {
     "delete_cmd_postfix": ") ",
     "delete_cmd_prefix": "rm(",
     "library": "var_list.r",
     "varRefreshCmd": "cat(var_dic_list()) "
    }
   },
   "types_to_exclude": [
    "module",
    "function",
    "builtin_function_or_method",
    "instance",
    "_Feature"
   ],
   "window_display": false
  }
 },
 "nbformat": 4,
 "nbformat_minor": 5
}
